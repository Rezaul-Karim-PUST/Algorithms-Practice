{
 "cells": [
  {
   "cell_type": "code",
   "execution_count": 5,
   "metadata": {},
   "outputs": [],
   "source": [
    "def bfs(graph, root):\n",
    "    visited, queue = [], [root]\n",
    "    while queue:\n",
    "        vertex = queue.pop(0)\n",
    "        for w in graph[vertex]:\n",
    "            if w not in visited:\n",
    "                visited.append(w)\n",
    "                queue.append(w)\n",
    "\n",
    "graph = {0: [1, 2], 1: [2], 2: []}\n",
    "bfs(graph, 0)"
   ]
  },
  {
   "cell_type": "code",
   "execution_count": 6,
   "metadata": {},
   "outputs": [
    {
     "name": "stdout",
     "output_type": "stream",
     "text": [
      "0\n",
      "1\n",
      "2\n"
     ]
    }
   ],
   "source": [
    "import collections\n",
    "\n",
    "def bfs(graph, root):\n",
    "    seen, queue = set([root]), collections.deque([root])\n",
    "    while queue:\n",
    "        vertex = queue.popleft()\n",
    "        visit(vertex)\n",
    "        for node in graph[vertex]:\n",
    "            if node not in seen:\n",
    "                seen.add(node)\n",
    "                queue.append(node)\n",
    "\n",
    "def visit(n):\n",
    "    print(n)\n",
    "\n",
    "if __name__ == '__main__':\n",
    "    graph = {0: [1, 2], 1: [2, 0], 2: []} \n",
    "    bfs(graph, 0)"
   ]
  },
  {
   "cell_type": "code",
   "execution_count": 8,
   "metadata": {},
   "outputs": [
    {
     "name": "stdout",
     "output_type": "stream",
     "text": [
      "1 2 3 4 5 6 "
     ]
    }
   ],
   "source": [
    "def bfs(graph, root):\n",
    "    visited, queue = [], [root]\n",
    "    while queue:\n",
    "        vertex = queue.pop(0)\n",
    "        g(vertex)\n",
    "        for w in graph[vertex]:\n",
    "            if w not in visited:\n",
    "                visited.append(w)\n",
    "                queue.append(w)\n",
    "def g(vertex):\n",
    "    print(vertex,end=' ')\n",
    "    \n",
    "graph1 = {\n",
    "    1 : [2,3],\n",
    "    2 : [4,5],\n",
    "    4 : [6],\n",
    "    6 :[],\n",
    "    3 :[],\n",
    "    5 :[]\n",
    "}\n",
    "bfs(graph1, 1)"
   ]
  },
  {
   "cell_type": "code",
   "execution_count": null,
   "metadata": {},
   "outputs": [],
   "source": []
  }
 ],
 "metadata": {
  "kernelspec": {
   "display_name": "Python 3",
   "language": "python",
   "name": "python3"
  },
  "language_info": {
   "codemirror_mode": {
    "name": "ipython",
    "version": 3
   },
   "file_extension": ".py",
   "mimetype": "text/x-python",
   "name": "python",
   "nbconvert_exporter": "python",
   "pygments_lexer": "ipython3",
   "version": "3.7.1"
  }
 },
 "nbformat": 4,
 "nbformat_minor": 2
}
